{
 "cells": [
  {
   "cell_type": "markdown",
   "metadata": {},
   "source": [
    "### 1. Set up a regression experiment"
   ]
  },
  {
   "cell_type": "code",
   "execution_count": 1,
   "metadata": {},
   "outputs": [],
   "source": [
    "# !pip install interpret\n",
    "import pandas as pd\n",
    "from sklearn.model_selection import train_test_split\n",
    "price = pd.read_csv('./processed-data/new_train.csv')\n",
    "y = price['SalePrice']\n",
    "X = price.drop(['SalePrice'],axis=1)\n",
    "seed = 1\n",
    "X_train, X_test, y_train, y_test = train_test_split(X, y, test_size=0.20, random_state=seed)"
   ]
  },
  {
   "cell_type": "markdown",
   "metadata": {},
   "source": [
    "### 2. Train the Explainable Boosting Machine (EBM)"
   ]
  },
  {
   "cell_type": "markdown",
   "metadata": {},
   "source": [
    "#### default EBM"
   ]
  },
  {
   "cell_type": "code",
   "execution_count": 2,
   "metadata": {},
   "outputs": [
    {
     "data": {
      "text/plain": [
       "ExplainableBoostingRegressor(binning_strategy='quantile', data_n_episodes=2000,\n",
       "                             early_stopping_run_length=50,\n",
       "                             early_stopping_tolerance=1e-05,\n",
       "                             feature_names=['MSZoning', 'LotFrontage',\n",
       "                                            'LotArea', 'Street', 'Alley',\n",
       "                                            'LotShape', 'LandContour',\n",
       "                                            'Utilities', 'LotConfig',\n",
       "                                            'LandSlope', 'Neighborhood',\n",
       "                                            'Condition1', 'Condition2',\n",
       "                                            'BldgType', 'HouseStyle',\n",
       "                                            'OverallQual', 'Over...\n",
       "                                            'categorical', 'categorical',\n",
       "                                            'continuous', 'continuous',\n",
       "                                            'continuous', 'categorical',\n",
       "                                            'continuous', 'continuous',\n",
       "                                            'continuous', 'continuous', ...],\n",
       "                             holdout_size=0.15, holdout_split=0.15,\n",
       "                             interactions=0, learning_rate=0.01,\n",
       "                             main_attr='all', max_n_bins=255, max_tree_splits=2,\n",
       "                             min_cases_for_splits=2, n_estimators=16, n_jobs=-2,\n",
       "                             random_state=1, schema=None, scoring=None,\n",
       "                             training_step_episodes=1)"
      ]
     },
     "execution_count": 2,
     "metadata": {},
     "output_type": "execute_result"
    }
   ],
   "source": [
    "from interpret.glassbox import ExplainableBoostingRegressor, LinearRegression, RegressionTree\n",
    "\n",
    "ebm1 = ExplainableBoostingRegressor(random_state=seed)\n",
    "ebm1.fit(X_train, y_train)"
   ]
  },
  {
   "cell_type": "markdown",
   "metadata": {},
   "source": [
    "It can be seen that the default boosting parameters such as `learning_rate` is quite small and `n_estimators` captures the number of trees that we add to the model, we then explore its model performance in terms of ***RMSE*** using validation test set."
   ]
  },
  {
   "cell_type": "code",
   "execution_count": 3,
   "metadata": {},
   "outputs": [
    {
     "data": {
      "text/html": [
       "<!-- http://127.0.0.1:7310/140616010802064/ -->\n",
       "<iframe src=\"http://127.0.0.1:7310/140616010802064/\" width=100% height=800 frameBorder=\"0\"></iframe>"
      ]
     },
     "metadata": {},
     "output_type": "display_data"
    }
   ],
   "source": [
    "from interpret import show\n",
    "from interpret.perf import RegressionPerf\n",
    "ebm1_perf = RegressionPerf(ebm1.predict).explain_perf(X_test, y_test, name='EBM_default')\n",
    "show(ebm1_perf)"
   ]
  },
  {
   "cell_type": "markdown",
   "metadata": {},
   "source": [
    "#### EBM with tuning n_estimators"
   ]
  },
  {
   "cell_type": "markdown",
   "metadata": {},
   "source": [
    "We did some initial explorations changing the `n_estimators` to give us an intuitive about the approximate range of parameter setting,as it captured the number of trees that we add to the model. A high number of trees can be computationally expensive, so for the sake of computational efficiency, we need to narrow our range setting."
   ]
  },
  {
   "cell_type": "code",
   "execution_count": 4,
   "metadata": {},
   "outputs": [
    {
     "data": {
      "text/plain": [
       "ExplainableBoostingRegressor(binning_strategy='quantile', data_n_episodes=2000,\n",
       "                             early_stopping_run_length=50,\n",
       "                             early_stopping_tolerance=1e-05,\n",
       "                             feature_names=['MSZoning', 'LotFrontage',\n",
       "                                            'LotArea', 'Street', 'Alley',\n",
       "                                            'LotShape', 'LandContour',\n",
       "                                            'Utilities', 'LotConfig',\n",
       "                                            'LandSlope', 'Neighborhood',\n",
       "                                            'Condition1', 'Condition2',\n",
       "                                            'BldgType', 'HouseStyle',\n",
       "                                            'OverallQual', 'Over...\n",
       "                                            'categorical', 'categorical',\n",
       "                                            'continuous', 'continuous',\n",
       "                                            'continuous', 'categorical',\n",
       "                                            'continuous', 'continuous',\n",
       "                                            'continuous', 'continuous', ...],\n",
       "                             holdout_size=0.15, holdout_split=0.15,\n",
       "                             interactions=0, learning_rate=0.01,\n",
       "                             main_attr='all', max_n_bins=255, max_tree_splits=2,\n",
       "                             min_cases_for_splits=2, n_estimators=50, n_jobs=-2,\n",
       "                             random_state=1, schema=None, scoring=None,\n",
       "                             training_step_episodes=1)"
      ]
     },
     "execution_count": 4,
     "metadata": {},
     "output_type": "execute_result"
    }
   ],
   "source": [
    "ebm2 = ExplainableBoostingRegressor(random_state=seed, n_estimators=50)\n",
    "ebm2.fit(X_train, y_train)"
   ]
  },
  {
   "cell_type": "code",
   "execution_count": 5,
   "metadata": {},
   "outputs": [
    {
     "data": {
      "text/html": [
       "<!-- http://127.0.0.1:7310/140616084227072/ -->\n",
       "<iframe src=\"http://127.0.0.1:7310/140616084227072/\" width=100% height=800 frameBorder=\"0\"></iframe>"
      ]
     },
     "metadata": {},
     "output_type": "display_data"
    }
   ],
   "source": [
    "ebm2_perf = RegressionPerf(ebm2.predict).explain_perf(X_test, y_test, name='EBM2')\n",
    "show(ebm2_perf)"
   ]
  },
  {
   "cell_type": "code",
   "execution_count": 6,
   "metadata": {},
   "outputs": [
    {
     "data": {
      "text/plain": [
       "ExplainableBoostingRegressor(binning_strategy='quantile', data_n_episodes=2000,\n",
       "                             early_stopping_run_length=50,\n",
       "                             early_stopping_tolerance=1e-05,\n",
       "                             feature_names=['MSZoning', 'LotFrontage',\n",
       "                                            'LotArea', 'Street', 'Alley',\n",
       "                                            'LotShape', 'LandContour',\n",
       "                                            'Utilities', 'LotConfig',\n",
       "                                            'LandSlope', 'Neighborhood',\n",
       "                                            'Condition1', 'Condition2',\n",
       "                                            'BldgType', 'HouseStyle',\n",
       "                                            'OverallQual', 'Over...\n",
       "                                            'categorical', 'categorical',\n",
       "                                            'continuous', 'continuous',\n",
       "                                            'continuous', 'categorical',\n",
       "                                            'continuous', 'continuous',\n",
       "                                            'continuous', 'continuous', ...],\n",
       "                             holdout_size=0.15, holdout_split=0.15,\n",
       "                             interactions=0, learning_rate=0.01,\n",
       "                             main_attr='all', max_n_bins=255, max_tree_splits=2,\n",
       "                             min_cases_for_splits=2, n_estimators=100,\n",
       "                             n_jobs=-2, random_state=1, schema=None,\n",
       "                             scoring=None, training_step_episodes=1)"
      ]
     },
     "execution_count": 6,
     "metadata": {},
     "output_type": "execute_result"
    }
   ],
   "source": [
    "ebm3 = ExplainableBoostingRegressor(random_state=seed, n_estimators=100)\n",
    "ebm3.fit(X_train, y_train)"
   ]
  },
  {
   "cell_type": "code",
   "execution_count": 7,
   "metadata": {},
   "outputs": [
    {
     "data": {
      "text/html": [
       "<!-- http://127.0.0.1:7310/140616080282848/ -->\n",
       "<iframe src=\"http://127.0.0.1:7310/140616080282848/\" width=100% height=800 frameBorder=\"0\"></iframe>"
      ]
     },
     "metadata": {},
     "output_type": "display_data"
    }
   ],
   "source": [
    "ebm3_perf = RegressionPerf(ebm3.predict).explain_perf(X_test, y_test, name='EBM3')\n",
    "show(ebm3_perf)"
   ]
  },
  {
   "cell_type": "markdown",
   "metadata": {},
   "source": [
    "It can be seen that RMSE is decreasing at the range from 20 to 50 and increase at 100,so we set up the parameter range from 10 to 100, especially, we use `negative_mean_squared_error` as our scoring benchmark.`n_estimators `captures the number of trees that we add to the model. A high number of trees can be computationally expensive. "
   ]
  },
  {
   "cell_type": "code",
   "execution_count": 8,
   "metadata": {},
   "outputs": [],
   "source": [
    "from sklearn.model_selection import learning_curve, GridSearchCV"
   ]
  },
  {
   "cell_type": "code",
   "execution_count": 9,
   "metadata": {},
   "outputs": [
    {
     "data": {
      "text/plain": [
       "GridSearchCV(cv=5, error_score='raise-deprecating',\n",
       "             estimator=ExplainableBoostingRegressor(binning_strategy='quantile',\n",
       "                                                    data_n_episodes=2000,\n",
       "                                                    early_stopping_run_length=50,\n",
       "                                                    early_stopping_tolerance=1e-05,\n",
       "                                                    feature_names=None,\n",
       "                                                    feature_step_n_inner_bags=0,\n",
       "                                                    feature_types=None,\n",
       "                                                    holdout_size=0.15,\n",
       "                                                    holdout_split=0.15,\n",
       "                                                    interactions=0,\n",
       "                                                    learning_rate=0.01,\n",
       "                                                    main_attr='all',\n",
       "                                                    max_n_bins=255,\n",
       "                                                    max_tree_splits=2,\n",
       "                                                    min_cases_for_splits=2,\n",
       "                                                    n_estimators=16, n_jobs=-2,\n",
       "                                                    random_state=1, schema=None,\n",
       "                                                    scoring=None,\n",
       "                                                    training_step_episodes=1),\n",
       "             iid=False, n_jobs=4,\n",
       "             param_grid={'n_estimators': range(10, 100, 10)},\n",
       "             pre_dispatch='2*n_jobs', refit=True, return_train_score=False,\n",
       "             scoring='neg_mean_squared_error', verbose=0)"
      ]
     },
     "execution_count": 9,
     "metadata": {},
     "output_type": "execute_result"
    }
   ],
   "source": [
    "param_test1 = {'n_estimators':range(10,100,10)}\n",
    "gsearch = GridSearchCV(estimator = ExplainableBoostingRegressor(learning_rate=0.01,random_state=seed), \n",
    "param_grid = param_test1, scoring='neg_mean_squared_error',n_jobs=4,iid=False, cv=5)\n",
    "gsearch.fit(X_train,y_train)"
   ]
  },
  {
   "cell_type": "code",
   "execution_count": 13,
   "metadata": {},
   "outputs": [
    {
     "data": {
      "text/plain": [
       "({'n_estimators': 20}, -838617776.0883902)"
      ]
     },
     "execution_count": 13,
     "metadata": {},
     "output_type": "execute_result"
    }
   ],
   "source": [
    "gsearch.best_params_, gsearch.best_score_"
   ]
  },
  {
   "cell_type": "markdown",
   "metadata": {},
   "source": [
    "It can be seen that we get the best score when ***`n_parameters` = 20***. So we train our best model so-far and display its performance at the next step."
   ]
  },
  {
   "cell_type": "code",
   "execution_count": 14,
   "metadata": {},
   "outputs": [
    {
     "data": {
      "text/plain": [
       "ExplainableBoostingRegressor(binning_strategy='quantile', data_n_episodes=2000,\n",
       "                             early_stopping_run_length=50,\n",
       "                             early_stopping_tolerance=1e-05,\n",
       "                             feature_names=['MSZoning', 'LotFrontage',\n",
       "                                            'LotArea', 'Street', 'Alley',\n",
       "                                            'LotShape', 'LandContour',\n",
       "                                            'Utilities', 'LotConfig',\n",
       "                                            'LandSlope', 'Neighborhood',\n",
       "                                            'Condition1', 'Condition2',\n",
       "                                            'BldgType', 'HouseStyle',\n",
       "                                            'OverallQual', 'Over...\n",
       "                                            'categorical', 'categorical',\n",
       "                                            'continuous', 'continuous',\n",
       "                                            'continuous', 'categorical',\n",
       "                                            'continuous', 'continuous',\n",
       "                                            'continuous', 'continuous', ...],\n",
       "                             holdout_size=0.15, holdout_split=0.15,\n",
       "                             interactions=0, learning_rate=0.01,\n",
       "                             main_attr='all', max_n_bins=255, max_tree_splits=2,\n",
       "                             min_cases_for_splits=2, n_estimators=20, n_jobs=-2,\n",
       "                             random_state=1, schema=None, scoring=None,\n",
       "                             training_step_episodes=1)"
      ]
     },
     "execution_count": 14,
     "metadata": {},
     "output_type": "execute_result"
    }
   ],
   "source": [
    "ebm_best = ExplainableBoostingRegressor(random_state=seed, n_estimators=20)\n",
    "ebm_best.fit(X_train, y_train)"
   ]
  },
  {
   "cell_type": "code",
   "execution_count": 15,
   "metadata": {},
   "outputs": [
    {
     "data": {
      "text/html": [
       "<!-- http://127.0.0.1:7310/140616061711584/ -->\n",
       "<iframe src=\"http://127.0.0.1:7310/140616061711584/\" width=100% height=800 frameBorder=\"0\"></iframe>"
      ]
     },
     "metadata": {},
     "output_type": "display_data"
    }
   ],
   "source": [
    "ebm_best_perf = RegressionPerf(ebm_best.predict).explain_perf(X_test, y_test, name='EBM_best')\n",
    "show(ebm_best_perf)"
   ]
  },
  {
   "cell_type": "markdown",
   "metadata": {},
   "source": [
    "#### Save the prediction results"
   ]
  },
  {
   "cell_type": "code",
   "execution_count": 16,
   "metadata": {},
   "outputs": [],
   "source": [
    "validation = pd.read_csv('./processed-data/new_test.csv')\n",
    "valid_x = validation.drop(['SalePrice'],axis=1)\n",
    "preds = ebm_best.predict(valid_x)\n",
    "final_preds = pd.DataFrame(preds)\n",
    "raw_valid = pd.read_csv('house-prices-data/test.csv')\n",
    "raw_id = raw_valid['Id']\n",
    "output = pd.concat([raw_id, final_preds], axis=1)\n",
    "output = output.rename(columns={'predict': \"SalePrice\"})"
   ]
  },
  {
   "cell_type": "code",
   "execution_count": 17,
   "metadata": {},
   "outputs": [],
   "source": [
    "output.to_csv('results/EBM_results.csv', index=False)"
   ]
  },
  {
   "cell_type": "markdown",
   "metadata": {},
   "source": [
    "### 3. Global Explanations: What the model learned overall"
   ]
  },
  {
   "cell_type": "code",
   "execution_count": 18,
   "metadata": {},
   "outputs": [
    {
     "data": {
      "text/html": [
       "<!-- http://127.0.0.1:7310/140616079783248/ -->\n",
       "<iframe src=\"http://127.0.0.1:7310/140616079783248/\" width=100% height=800 frameBorder=\"0\"></iframe>"
      ]
     },
     "metadata": {},
     "output_type": "display_data"
    }
   ],
   "source": [
    "ebm_global = ebm_best.explain_global(name='EBM')\n",
    "show(ebm_global)"
   ]
  },
  {
   "cell_type": "markdown",
   "metadata": {},
   "source": [
    "1. Choose ***Summary*** to show the overall variable importance ranked in descending order (orange color)."
   ]
  },
  {
   "cell_type": "markdown",
   "metadata": {},
   "source": [
    "2. Choose the first variable `MSZoning`. Two plots show up: the Partial Dependent Plot (PDP) and the histogram of “MSZoning”. The histogram indicates most of the zoning classification is `RL`(Residential Low Density). The PDP presents the marginal effect of the feature on the predicted outcome of a machine learning model. It tells whether the relationship between the target and a feature is linear, monotonic or more complex. In this example the PDP shows when the zoning classification is `C`(commercial), there is a ***negative*** effect on the `SalePrice`."
   ]
  },
  {
   "cell_type": "markdown",
   "metadata": {},
   "source": [
    "### 4. Local Explanations: How an individual prediction was made"
   ]
  },
  {
   "cell_type": "code",
   "execution_count": 19,
   "metadata": {},
   "outputs": [
    {
     "data": {
      "text/html": [
       "<!-- http://127.0.0.1:7310/140616004346880/ -->\n",
       "<iframe src=\"http://127.0.0.1:7310/140616004346880/\" width=100% height=800 frameBorder=\"0\"></iframe>"
      ]
     },
     "metadata": {},
     "output_type": "display_data"
    }
   ],
   "source": [
    "ebm_local = ebm_best.explain_local(X_test[:10], y_test[:10], name='EBM')\n",
    "show(ebm_local)"
   ]
  },
  {
   "cell_type": "markdown",
   "metadata": {},
   "source": [
    "The drop-down menu lists the predicted value and the actual value for each record. We choose the first record. The value of `GrLivArea` is 420, and that of `LowQualFinSF` is 4, and so on. The contributions of all variables for this record are ranked in descending order as below. `GrLivArea` positively contributes to the target `SalePrice`, while `LowQualFinSF` negatively contributes to the target. Because EBM is a GAM-like model, the prediction is the sum of all the coefficients."
   ]
  },
  {
   "cell_type": "markdown",
   "metadata": {},
   "source": [
    "### 5. Test out a few other Explainable Models"
   ]
  },
  {
   "cell_type": "code",
   "execution_count": 21,
   "metadata": {},
   "outputs": [
    {
     "name": "stderr",
     "output_type": "stream",
     "text": [
      "/Users/scarlettwang/anaconda3/lib/python3.7/site-packages/sklearn/linear_model/coordinate_descent.py:475: ConvergenceWarning:\n",
      "\n",
      "Objective did not converge. You might want to increase the number of iterations. Duality gap: 253579961217.50323, tolerance: 711570848.3106698\n",
      "\n"
     ]
    },
    {
     "data": {
      "text/plain": [
       "<interpret.glassbox.decisiontree.RegressionTree at 0x7fe3b652c898>"
      ]
     },
     "execution_count": 21,
     "metadata": {},
     "output_type": "execute_result"
    }
   ],
   "source": [
    "X = pd.get_dummies(data=X, drop_first=True)\n",
    "seed = 1\n",
    "X_train, X_test, y_train, y_test = train_test_split(X, y, test_size=0.20, random_state=seed)\n",
    "\n",
    "lr = LinearRegression(random_state=seed)\n",
    "lr.fit(X_train, y_train)\n",
    "\n",
    "rt = RegressionTree(random_state=seed)\n",
    "rt.fit(X_train, y_train)"
   ]
  },
  {
   "cell_type": "code",
   "execution_count": 22,
   "metadata": {},
   "outputs": [
    {
     "data": {
      "text/html": [
       "<!-- http://127.0.0.1:7310/140616099676624/ -->\n",
       "<iframe src=\"http://127.0.0.1:7310/140616099676624/\" width=100% height=800 frameBorder=\"0\"></iframe>"
      ]
     },
     "metadata": {},
     "output_type": "display_data"
    },
    {
     "data": {
      "text/html": [
       "<!-- http://127.0.0.1:7310/140616099676904/ -->\n",
       "<iframe src=\"http://127.0.0.1:7310/140616099676904/\" width=100% height=800 frameBorder=\"0\"></iframe>"
      ]
     },
     "metadata": {},
     "output_type": "display_data"
    },
    {
     "data": {
      "text/html": [
       "<!-- http://127.0.0.1:7310/140616061711584/ -->\n",
       "<iframe src=\"http://127.0.0.1:7310/140616061711584/\" width=100% height=800 frameBorder=\"0\"></iframe>"
      ]
     },
     "metadata": {},
     "output_type": "display_data"
    }
   ],
   "source": [
    "lr_perf = RegressionPerf(lr.predict).explain_perf(X_test, y_test, name='Linear Regression')\n",
    "rt_perf = RegressionPerf(rt.predict).explain_perf(X_test, y_test, name='Regression Tree')\n",
    "\n",
    "show(lr_perf)\n",
    "show(rt_perf)\n",
    "show(ebm_best_perf)"
   ]
  },
  {
   "cell_type": "markdown",
   "metadata": {},
   "source": [
    "The R-squared value of EBM is 0.89 which outperforms those of linear regression model and regression tree model.In terms of both R-squared and RMSE, we could conclude that EBM preform the best."
   ]
  },
  {
   "cell_type": "markdown",
   "metadata": {},
   "source": [
    "### 6. Glassbox: All of our models have global and local explanations"
   ]
  },
  {
   "cell_type": "code",
   "execution_count": 23,
   "metadata": {},
   "outputs": [
    {
     "data": {
      "text/html": [
       "<!-- http://127.0.0.1:7310/140616093022416/ -->\n",
       "<iframe src=\"http://127.0.0.1:7310/140616093022416/\" width=100% height=800 frameBorder=\"0\"></iframe>"
      ]
     },
     "metadata": {},
     "output_type": "display_data"
    },
    {
     "data": {
      "text/html": [
       "<!-- http://127.0.0.1:7310/140616093023200/ -->\n",
       "<iframe src=\"http://127.0.0.1:7310/140616093023200/\" width=100% height=800 frameBorder=\"0\"></iframe>"
      ]
     },
     "metadata": {},
     "output_type": "display_data"
    },
    {
     "data": {
      "text/html": [
       "<!-- http://127.0.0.1:7310/140616079783248/ -->\n",
       "<iframe src=\"http://127.0.0.1:7310/140616079783248/\" width=100% height=800 frameBorder=\"0\"></iframe>"
      ]
     },
     "metadata": {},
     "output_type": "display_data"
    }
   ],
   "source": [
    "lr_global = lr.explain_global(name='Linear Regression')\n",
    "rt_global = rt.explain_global(name='Regression Tree')\n",
    "\n",
    "show(lr_global)\n",
    "show(rt_global)\n",
    "show(ebm_global)"
   ]
  },
  {
   "cell_type": "markdown",
   "metadata": {},
   "source": [
    "### 7. Dashborad for all 3 models"
   ]
  },
  {
   "cell_type": "code",
   "execution_count": 24,
   "metadata": {},
   "outputs": [
    {
     "data": {
      "text/html": [
       "<!-- http://127.0.0.1:7310/140616087297992/ -->\n",
       "<a href=\"http://127.0.0.1:7310/140616087297992/\" target=\"_new\">Open in new window</a><iframe src=\"http://127.0.0.1:7310/140616087297992/\" width=100% height=800 frameBorder=\"0\"></iframe>"
      ]
     },
     "metadata": {},
     "output_type": "display_data"
    }
   ],
   "source": [
    "show([lr_global, lr_perf, rt_global, rt_perf, ebm_global, ebm_best_perf])"
   ]
  }
 ],
 "metadata": {
  "kernelspec": {
   "display_name": "Python 3",
   "language": "python",
   "name": "python3"
  },
  "language_info": {
   "codemirror_mode": {
    "name": "ipython",
    "version": 3
   },
   "file_extension": ".py",
   "mimetype": "text/x-python",
   "name": "python",
   "nbconvert_exporter": "python",
   "pygments_lexer": "ipython3",
   "version": "3.7.3"
  }
 },
 "nbformat": 4,
 "nbformat_minor": 2
}
